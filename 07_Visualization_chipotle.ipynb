{
  "cells": [
    {
      "cell_type": "markdown",
      "metadata": {
        "pycharm": {
          "name": "#%% md\n"
        },
        "id": "humsix4mRmOx"
      },
      "source": [
        "# Visualizing Chipotle's Data"
      ]
    },
    {
      "cell_type": "markdown",
      "metadata": {
        "pycharm": {
          "name": "#%% md\n"
        },
        "id": "vflR7adQRmO3"
      },
      "source": [
        "This time we are going to pull data directly from the internet.\n",
        "Special thanks to: https://github.com/justmarkham for sharing the dataset and materials.\n",
        "\n",
        "### Step 1. Import the necessary libraries"
      ]
    },
    {
      "cell_type": "code",
      "execution_count": null,
      "metadata": {
        "pycharm": {
          "name": "#%%\n"
        },
        "id": "AvpliCDsRmO4"
      },
      "outputs": [],
      "source": [
        "import pandas as pd\n",
        "import matplotlib.pyplot as plt\n",
        "from collections import Counter\n",
        "\n",
        "# set this so the graphs open internally\n",
        "%matplotlib inline"
      ]
    },
    {
      "cell_type": "markdown",
      "metadata": {
        "pycharm": {
          "name": "#%% md\n"
        },
        "id": "MvtM-Rh7RmO6"
      },
      "source": [
        "### Step 2. Import the dataset from this [address](https://raw.githubusercontent.com/thieu1995/csv-files/main/data/pandas/chipotle.tsv)."
      ]
    },
    {
      "cell_type": "markdown",
      "metadata": {
        "pycharm": {
          "name": "#%% md\n"
        },
        "id": "3bc9HsUMRmO6"
      },
      "source": [
        "### Step 3. Assign it to a variable called chipo."
      ]
    },
    {
      "cell_type": "code",
      "execution_count": null,
      "metadata": {
        "pycharm": {
          "name": "#%%\n"
        },
        "id": "sEYZDIf9RmO7",
        "colab": {
          "base_uri": "https://localhost:8080/",
          "height": 459
        },
        "outputId": "32c6e295-7bca-4145-8213-a881c7e1a749"
      },
      "outputs": [
        {
          "output_type": "execute_result",
          "data": {
            "text/plain": [
              "   order_id  quantity                              item_name  \\\n",
              "0         1         1           Chips and Fresh Tomato Salsa   \n",
              "1         1         1                                   Izze   \n",
              "2         1         1                       Nantucket Nectar   \n",
              "3         1         1  Chips and Tomatillo-Green Chili Salsa   \n",
              "4         2         2                           Chicken Bowl   \n",
              "5         3         1                           Chicken Bowl   \n",
              "6         3         1                          Side of Chips   \n",
              "7         4         1                          Steak Burrito   \n",
              "8         4         1                       Steak Soft Tacos   \n",
              "9         5         1                          Steak Burrito   \n",
              "\n",
              "                                  choice_description item_price  \n",
              "0                                                NaN     $2.39   \n",
              "1                                       [Clementine]     $3.39   \n",
              "2                                            [Apple]     $3.39   \n",
              "3                                                NaN     $2.39   \n",
              "4  [Tomatillo-Red Chili Salsa (Hot), [Black Beans...    $16.98   \n",
              "5  [Fresh Tomato Salsa (Mild), [Rice, Cheese, Sou...    $10.98   \n",
              "6                                                NaN     $1.69   \n",
              "7  [Tomatillo Red Chili Salsa, [Fajita Vegetables...    $11.75   \n",
              "8  [Tomatillo Green Chili Salsa, [Pinto Beans, Ch...     $9.25   \n",
              "9  [Fresh Tomato Salsa, [Rice, Black Beans, Pinto...     $9.25   "
            ],
            "text/html": [
              "\n",
              "  <div id=\"df-50c14976-e02c-4e52-b8b9-5f4a46d8abdf\">\n",
              "    <div class=\"colab-df-container\">\n",
              "      <div>\n",
              "<style scoped>\n",
              "    .dataframe tbody tr th:only-of-type {\n",
              "        vertical-align: middle;\n",
              "    }\n",
              "\n",
              "    .dataframe tbody tr th {\n",
              "        vertical-align: top;\n",
              "    }\n",
              "\n",
              "    .dataframe thead th {\n",
              "        text-align: right;\n",
              "    }\n",
              "</style>\n",
              "<table border=\"1\" class=\"dataframe\">\n",
              "  <thead>\n",
              "    <tr style=\"text-align: right;\">\n",
              "      <th></th>\n",
              "      <th>order_id</th>\n",
              "      <th>quantity</th>\n",
              "      <th>item_name</th>\n",
              "      <th>choice_description</th>\n",
              "      <th>item_price</th>\n",
              "    </tr>\n",
              "  </thead>\n",
              "  <tbody>\n",
              "    <tr>\n",
              "      <th>0</th>\n",
              "      <td>1</td>\n",
              "      <td>1</td>\n",
              "      <td>Chips and Fresh Tomato Salsa</td>\n",
              "      <td>NaN</td>\n",
              "      <td>$2.39</td>\n",
              "    </tr>\n",
              "    <tr>\n",
              "      <th>1</th>\n",
              "      <td>1</td>\n",
              "      <td>1</td>\n",
              "      <td>Izze</td>\n",
              "      <td>[Clementine]</td>\n",
              "      <td>$3.39</td>\n",
              "    </tr>\n",
              "    <tr>\n",
              "      <th>2</th>\n",
              "      <td>1</td>\n",
              "      <td>1</td>\n",
              "      <td>Nantucket Nectar</td>\n",
              "      <td>[Apple]</td>\n",
              "      <td>$3.39</td>\n",
              "    </tr>\n",
              "    <tr>\n",
              "      <th>3</th>\n",
              "      <td>1</td>\n",
              "      <td>1</td>\n",
              "      <td>Chips and Tomatillo-Green Chili Salsa</td>\n",
              "      <td>NaN</td>\n",
              "      <td>$2.39</td>\n",
              "    </tr>\n",
              "    <tr>\n",
              "      <th>4</th>\n",
              "      <td>2</td>\n",
              "      <td>2</td>\n",
              "      <td>Chicken Bowl</td>\n",
              "      <td>[Tomatillo-Red Chili Salsa (Hot), [Black Beans...</td>\n",
              "      <td>$16.98</td>\n",
              "    </tr>\n",
              "    <tr>\n",
              "      <th>5</th>\n",
              "      <td>3</td>\n",
              "      <td>1</td>\n",
              "      <td>Chicken Bowl</td>\n",
              "      <td>[Fresh Tomato Salsa (Mild), [Rice, Cheese, Sou...</td>\n",
              "      <td>$10.98</td>\n",
              "    </tr>\n",
              "    <tr>\n",
              "      <th>6</th>\n",
              "      <td>3</td>\n",
              "      <td>1</td>\n",
              "      <td>Side of Chips</td>\n",
              "      <td>NaN</td>\n",
              "      <td>$1.69</td>\n",
              "    </tr>\n",
              "    <tr>\n",
              "      <th>7</th>\n",
              "      <td>4</td>\n",
              "      <td>1</td>\n",
              "      <td>Steak Burrito</td>\n",
              "      <td>[Tomatillo Red Chili Salsa, [Fajita Vegetables...</td>\n",
              "      <td>$11.75</td>\n",
              "    </tr>\n",
              "    <tr>\n",
              "      <th>8</th>\n",
              "      <td>4</td>\n",
              "      <td>1</td>\n",
              "      <td>Steak Soft Tacos</td>\n",
              "      <td>[Tomatillo Green Chili Salsa, [Pinto Beans, Ch...</td>\n",
              "      <td>$9.25</td>\n",
              "    </tr>\n",
              "    <tr>\n",
              "      <th>9</th>\n",
              "      <td>5</td>\n",
              "      <td>1</td>\n",
              "      <td>Steak Burrito</td>\n",
              "      <td>[Fresh Tomato Salsa, [Rice, Black Beans, Pinto...</td>\n",
              "      <td>$9.25</td>\n",
              "    </tr>\n",
              "  </tbody>\n",
              "</table>\n",
              "</div>\n",
              "      <button class=\"colab-df-convert\" onclick=\"convertToInteractive('df-50c14976-e02c-4e52-b8b9-5f4a46d8abdf')\"\n",
              "              title=\"Convert this dataframe to an interactive table.\"\n",
              "              style=\"display:none;\">\n",
              "        \n",
              "  <svg xmlns=\"http://www.w3.org/2000/svg\" height=\"24px\"viewBox=\"0 0 24 24\"\n",
              "       width=\"24px\">\n",
              "    <path d=\"M0 0h24v24H0V0z\" fill=\"none\"/>\n",
              "    <path d=\"M18.56 5.44l.94 2.06.94-2.06 2.06-.94-2.06-.94-.94-2.06-.94 2.06-2.06.94zm-11 1L8.5 8.5l.94-2.06 2.06-.94-2.06-.94L8.5 2.5l-.94 2.06-2.06.94zm10 10l.94 2.06.94-2.06 2.06-.94-2.06-.94-.94-2.06-.94 2.06-2.06.94z\"/><path d=\"M17.41 7.96l-1.37-1.37c-.4-.4-.92-.59-1.43-.59-.52 0-1.04.2-1.43.59L10.3 9.45l-7.72 7.72c-.78.78-.78 2.05 0 2.83L4 21.41c.39.39.9.59 1.41.59.51 0 1.02-.2 1.41-.59l7.78-7.78 2.81-2.81c.8-.78.8-2.07 0-2.86zM5.41 20L4 18.59l7.72-7.72 1.47 1.35L5.41 20z\"/>\n",
              "  </svg>\n",
              "      </button>\n",
              "      \n",
              "  <style>\n",
              "    .colab-df-container {\n",
              "      display:flex;\n",
              "      flex-wrap:wrap;\n",
              "      gap: 12px;\n",
              "    }\n",
              "\n",
              "    .colab-df-convert {\n",
              "      background-color: #E8F0FE;\n",
              "      border: none;\n",
              "      border-radius: 50%;\n",
              "      cursor: pointer;\n",
              "      display: none;\n",
              "      fill: #1967D2;\n",
              "      height: 32px;\n",
              "      padding: 0 0 0 0;\n",
              "      width: 32px;\n",
              "    }\n",
              "\n",
              "    .colab-df-convert:hover {\n",
              "      background-color: #E2EBFA;\n",
              "      box-shadow: 0px 1px 2px rgba(60, 64, 67, 0.3), 0px 1px 3px 1px rgba(60, 64, 67, 0.15);\n",
              "      fill: #174EA6;\n",
              "    }\n",
              "\n",
              "    [theme=dark] .colab-df-convert {\n",
              "      background-color: #3B4455;\n",
              "      fill: #D2E3FC;\n",
              "    }\n",
              "\n",
              "    [theme=dark] .colab-df-convert:hover {\n",
              "      background-color: #434B5C;\n",
              "      box-shadow: 0px 1px 3px 1px rgba(0, 0, 0, 0.15);\n",
              "      filter: drop-shadow(0px 1px 2px rgba(0, 0, 0, 0.3));\n",
              "      fill: #FFFFFF;\n",
              "    }\n",
              "  </style>\n",
              "\n",
              "      <script>\n",
              "        const buttonEl =\n",
              "          document.querySelector('#df-50c14976-e02c-4e52-b8b9-5f4a46d8abdf button.colab-df-convert');\n",
              "        buttonEl.style.display =\n",
              "          google.colab.kernel.accessAllowed ? 'block' : 'none';\n",
              "\n",
              "        async function convertToInteractive(key) {\n",
              "          const element = document.querySelector('#df-50c14976-e02c-4e52-b8b9-5f4a46d8abdf');\n",
              "          const dataTable =\n",
              "            await google.colab.kernel.invokeFunction('convertToInteractive',\n",
              "                                                     [key], {});\n",
              "          if (!dataTable) return;\n",
              "\n",
              "          const docLinkHtml = 'Like what you see? Visit the ' +\n",
              "            '<a target=\"_blank\" href=https://colab.research.google.com/notebooks/data_table.ipynb>data table notebook</a>'\n",
              "            + ' to learn more about interactive tables.';\n",
              "          element.innerHTML = '';\n",
              "          dataTable['output_type'] = 'display_data';\n",
              "          await google.colab.output.renderOutput(dataTable, element);\n",
              "          const docLink = document.createElement('div');\n",
              "          docLink.innerHTML = docLinkHtml;\n",
              "          element.appendChild(docLink);\n",
              "        }\n",
              "      </script>\n",
              "    </div>\n",
              "  </div>\n",
              "  "
            ]
          },
          "metadata": {},
          "execution_count": 2
        }
      ],
      "source": [
        "chipo=pd.read_table(\"https://raw.githubusercontent.com/thieu1995/csv-files/main/data/pandas/chipotle.tsv\")\n",
        "chipo.head(10)"
      ]
    },
    {
      "cell_type": "markdown",
      "metadata": {
        "pycharm": {
          "name": "#%% md\n"
        },
        "id": "zfhmeEYQRmO7"
      },
      "source": [
        "### Step 4. See the first 10 entries"
      ]
    },
    {
      "cell_type": "code",
      "execution_count": null,
      "metadata": {
        "scrolled": false,
        "pycharm": {
          "name": "#%%\n"
        },
        "id": "Wx4LC-MjRmO8",
        "colab": {
          "base_uri": "https://localhost:8080/",
          "height": 459
        },
        "outputId": "d7402064-213f-4b6c-b903-3233c461e980"
      },
      "outputs": [
        {
          "output_type": "execute_result",
          "data": {
            "text/plain": [
              "   order_id  quantity                              item_name  \\\n",
              "0         1         1           Chips and Fresh Tomato Salsa   \n",
              "1         1         1                                   Izze   \n",
              "2         1         1                       Nantucket Nectar   \n",
              "3         1         1  Chips and Tomatillo-Green Chili Salsa   \n",
              "4         2         2                           Chicken Bowl   \n",
              "5         3         1                           Chicken Bowl   \n",
              "6         3         1                          Side of Chips   \n",
              "7         4         1                          Steak Burrito   \n",
              "8         4         1                       Steak Soft Tacos   \n",
              "9         5         1                          Steak Burrito   \n",
              "\n",
              "                                  choice_description item_price  \n",
              "0                                                NaN     $2.39   \n",
              "1                                       [Clementine]     $3.39   \n",
              "2                                            [Apple]     $3.39   \n",
              "3                                                NaN     $2.39   \n",
              "4  [Tomatillo-Red Chili Salsa (Hot), [Black Beans...    $16.98   \n",
              "5  [Fresh Tomato Salsa (Mild), [Rice, Cheese, Sou...    $10.98   \n",
              "6                                                NaN     $1.69   \n",
              "7  [Tomatillo Red Chili Salsa, [Fajita Vegetables...    $11.75   \n",
              "8  [Tomatillo Green Chili Salsa, [Pinto Beans, Ch...     $9.25   \n",
              "9  [Fresh Tomato Salsa, [Rice, Black Beans, Pinto...     $9.25   "
            ],
            "text/html": [
              "\n",
              "  <div id=\"df-46e01e1e-0811-45c0-ad07-2d71c39d1bd8\">\n",
              "    <div class=\"colab-df-container\">\n",
              "      <div>\n",
              "<style scoped>\n",
              "    .dataframe tbody tr th:only-of-type {\n",
              "        vertical-align: middle;\n",
              "    }\n",
              "\n",
              "    .dataframe tbody tr th {\n",
              "        vertical-align: top;\n",
              "    }\n",
              "\n",
              "    .dataframe thead th {\n",
              "        text-align: right;\n",
              "    }\n",
              "</style>\n",
              "<table border=\"1\" class=\"dataframe\">\n",
              "  <thead>\n",
              "    <tr style=\"text-align: right;\">\n",
              "      <th></th>\n",
              "      <th>order_id</th>\n",
              "      <th>quantity</th>\n",
              "      <th>item_name</th>\n",
              "      <th>choice_description</th>\n",
              "      <th>item_price</th>\n",
              "    </tr>\n",
              "  </thead>\n",
              "  <tbody>\n",
              "    <tr>\n",
              "      <th>0</th>\n",
              "      <td>1</td>\n",
              "      <td>1</td>\n",
              "      <td>Chips and Fresh Tomato Salsa</td>\n",
              "      <td>NaN</td>\n",
              "      <td>$2.39</td>\n",
              "    </tr>\n",
              "    <tr>\n",
              "      <th>1</th>\n",
              "      <td>1</td>\n",
              "      <td>1</td>\n",
              "      <td>Izze</td>\n",
              "      <td>[Clementine]</td>\n",
              "      <td>$3.39</td>\n",
              "    </tr>\n",
              "    <tr>\n",
              "      <th>2</th>\n",
              "      <td>1</td>\n",
              "      <td>1</td>\n",
              "      <td>Nantucket Nectar</td>\n",
              "      <td>[Apple]</td>\n",
              "      <td>$3.39</td>\n",
              "    </tr>\n",
              "    <tr>\n",
              "      <th>3</th>\n",
              "      <td>1</td>\n",
              "      <td>1</td>\n",
              "      <td>Chips and Tomatillo-Green Chili Salsa</td>\n",
              "      <td>NaN</td>\n",
              "      <td>$2.39</td>\n",
              "    </tr>\n",
              "    <tr>\n",
              "      <th>4</th>\n",
              "      <td>2</td>\n",
              "      <td>2</td>\n",
              "      <td>Chicken Bowl</td>\n",
              "      <td>[Tomatillo-Red Chili Salsa (Hot), [Black Beans...</td>\n",
              "      <td>$16.98</td>\n",
              "    </tr>\n",
              "    <tr>\n",
              "      <th>5</th>\n",
              "      <td>3</td>\n",
              "      <td>1</td>\n",
              "      <td>Chicken Bowl</td>\n",
              "      <td>[Fresh Tomato Salsa (Mild), [Rice, Cheese, Sou...</td>\n",
              "      <td>$10.98</td>\n",
              "    </tr>\n",
              "    <tr>\n",
              "      <th>6</th>\n",
              "      <td>3</td>\n",
              "      <td>1</td>\n",
              "      <td>Side of Chips</td>\n",
              "      <td>NaN</td>\n",
              "      <td>$1.69</td>\n",
              "    </tr>\n",
              "    <tr>\n",
              "      <th>7</th>\n",
              "      <td>4</td>\n",
              "      <td>1</td>\n",
              "      <td>Steak Burrito</td>\n",
              "      <td>[Tomatillo Red Chili Salsa, [Fajita Vegetables...</td>\n",
              "      <td>$11.75</td>\n",
              "    </tr>\n",
              "    <tr>\n",
              "      <th>8</th>\n",
              "      <td>4</td>\n",
              "      <td>1</td>\n",
              "      <td>Steak Soft Tacos</td>\n",
              "      <td>[Tomatillo Green Chili Salsa, [Pinto Beans, Ch...</td>\n",
              "      <td>$9.25</td>\n",
              "    </tr>\n",
              "    <tr>\n",
              "      <th>9</th>\n",
              "      <td>5</td>\n",
              "      <td>1</td>\n",
              "      <td>Steak Burrito</td>\n",
              "      <td>[Fresh Tomato Salsa, [Rice, Black Beans, Pinto...</td>\n",
              "      <td>$9.25</td>\n",
              "    </tr>\n",
              "  </tbody>\n",
              "</table>\n",
              "</div>\n",
              "      <button class=\"colab-df-convert\" onclick=\"convertToInteractive('df-46e01e1e-0811-45c0-ad07-2d71c39d1bd8')\"\n",
              "              title=\"Convert this dataframe to an interactive table.\"\n",
              "              style=\"display:none;\">\n",
              "        \n",
              "  <svg xmlns=\"http://www.w3.org/2000/svg\" height=\"24px\"viewBox=\"0 0 24 24\"\n",
              "       width=\"24px\">\n",
              "    <path d=\"M0 0h24v24H0V0z\" fill=\"none\"/>\n",
              "    <path d=\"M18.56 5.44l.94 2.06.94-2.06 2.06-.94-2.06-.94-.94-2.06-.94 2.06-2.06.94zm-11 1L8.5 8.5l.94-2.06 2.06-.94-2.06-.94L8.5 2.5l-.94 2.06-2.06.94zm10 10l.94 2.06.94-2.06 2.06-.94-2.06-.94-.94-2.06-.94 2.06-2.06.94z\"/><path d=\"M17.41 7.96l-1.37-1.37c-.4-.4-.92-.59-1.43-.59-.52 0-1.04.2-1.43.59L10.3 9.45l-7.72 7.72c-.78.78-.78 2.05 0 2.83L4 21.41c.39.39.9.59 1.41.59.51 0 1.02-.2 1.41-.59l7.78-7.78 2.81-2.81c.8-.78.8-2.07 0-2.86zM5.41 20L4 18.59l7.72-7.72 1.47 1.35L5.41 20z\"/>\n",
              "  </svg>\n",
              "      </button>\n",
              "      \n",
              "  <style>\n",
              "    .colab-df-container {\n",
              "      display:flex;\n",
              "      flex-wrap:wrap;\n",
              "      gap: 12px;\n",
              "    }\n",
              "\n",
              "    .colab-df-convert {\n",
              "      background-color: #E8F0FE;\n",
              "      border: none;\n",
              "      border-radius: 50%;\n",
              "      cursor: pointer;\n",
              "      display: none;\n",
              "      fill: #1967D2;\n",
              "      height: 32px;\n",
              "      padding: 0 0 0 0;\n",
              "      width: 32px;\n",
              "    }\n",
              "\n",
              "    .colab-df-convert:hover {\n",
              "      background-color: #E2EBFA;\n",
              "      box-shadow: 0px 1px 2px rgba(60, 64, 67, 0.3), 0px 1px 3px 1px rgba(60, 64, 67, 0.15);\n",
              "      fill: #174EA6;\n",
              "    }\n",
              "\n",
              "    [theme=dark] .colab-df-convert {\n",
              "      background-color: #3B4455;\n",
              "      fill: #D2E3FC;\n",
              "    }\n",
              "\n",
              "    [theme=dark] .colab-df-convert:hover {\n",
              "      background-color: #434B5C;\n",
              "      box-shadow: 0px 1px 3px 1px rgba(0, 0, 0, 0.15);\n",
              "      filter: drop-shadow(0px 1px 2px rgba(0, 0, 0, 0.3));\n",
              "      fill: #FFFFFF;\n",
              "    }\n",
              "  </style>\n",
              "\n",
              "      <script>\n",
              "        const buttonEl =\n",
              "          document.querySelector('#df-46e01e1e-0811-45c0-ad07-2d71c39d1bd8 button.colab-df-convert');\n",
              "        buttonEl.style.display =\n",
              "          google.colab.kernel.accessAllowed ? 'block' : 'none';\n",
              "\n",
              "        async function convertToInteractive(key) {\n",
              "          const element = document.querySelector('#df-46e01e1e-0811-45c0-ad07-2d71c39d1bd8');\n",
              "          const dataTable =\n",
              "            await google.colab.kernel.invokeFunction('convertToInteractive',\n",
              "                                                     [key], {});\n",
              "          if (!dataTable) return;\n",
              "\n",
              "          const docLinkHtml = 'Like what you see? Visit the ' +\n",
              "            '<a target=\"_blank\" href=https://colab.research.google.com/notebooks/data_table.ipynb>data table notebook</a>'\n",
              "            + ' to learn more about interactive tables.';\n",
              "          element.innerHTML = '';\n",
              "          dataTable['output_type'] = 'display_data';\n",
              "          await google.colab.output.renderOutput(dataTable, element);\n",
              "          const docLink = document.createElement('div');\n",
              "          docLink.innerHTML = docLinkHtml;\n",
              "          element.appendChild(docLink);\n",
              "        }\n",
              "      </script>\n",
              "    </div>\n",
              "  </div>\n",
              "  "
            ]
          },
          "metadata": {},
          "execution_count": 22
        }
      ],
      "source": [
        "chipo.head(10)"
      ]
    },
    {
      "cell_type": "markdown",
      "metadata": {
        "pycharm": {
          "name": "#%% md\n"
        },
        "id": "-3-wa_4NRmO8"
      },
      "source": [
        "### Step 5. Create a histogram of the top 5 items bought"
      ]
    },
    {
      "cell_type": "code",
      "execution_count": null,
      "metadata": {
        "pycharm": {
          "name": "#%%\n"
        },
        "id": "ynhTkjDORmO9",
        "colab": {
          "base_uri": "https://localhost:8080/",
          "height": 610
        },
        "outputId": "68834010-d2c9-4664-c2fe-e4c99fb7fc60"
      },
      "outputs": [
        {
          "output_type": "display_data",
          "data": {
            "text/plain": [
              "<Figure size 640x480 with 1 Axes>"
            ],
            "image/png": "[encoded data removed]"
          },
          "metadata": {}
        }
      ],
      "source": [
        "x=chipo.item_name\n",
        "counts=Counter(x)\n",
        "#print(counts)\n",
        "df=pd.DataFrame.from_dict(counts,orient='index')\n",
        "#print(df)\n",
        "df=df[0].sort_values(ascending=True)[45:50]\n",
        "df.plot(kind='bar')\n",
        "plt.xlabel(\"Item_name\")\n",
        "plt.ylabel(\"Number of times ordered\")\n",
        "plt.title(\"Top 5 items\")\n",
        "plt.show()"
      ]
    },
    {
      "cell_type": "markdown",
      "metadata": {
        "pycharm": {
          "name": "#%% md\n"
        },
        "id": "HHZAazdTRmO9"
      },
      "source": [
        "### Step 6. Create a scatterplot with the number of items orderered per order price\n",
        "#### Hint: Price should be in the X-axis and Items ordered in the Y-axis"
      ]
    },
    {
      "cell_type": "code",
      "execution_count": null,
      "metadata": {
        "pycharm": {
          "name": "#%%\n"
        },
        "id": "nxRHov3yRmO9",
        "colab": {
          "base_uri": "https://localhost:8080/",
          "height": 527
        },
        "outputId": "d07ff4ea-de0c-4f48-dbfc-b2ef004022ad"
      },
      "outputs": [
        {
          "output_type": "stream",
          "name": "stderr",
          "text": [
            "<ipython-input-33-0641fc128c6a>:1: FutureWarning: The default value of numeric_only in DataFrameGroupBy.sum is deprecated. In a future version, numeric_only will default to False. Either specify numeric_only or select only columns which should be valid for the function.\n",
            "  order=chipo.groupby('order_id').sum()\n"
          ]
        },
        {
          "output_type": "display_data",
          "data": {
            "text/plain": [
              "<Figure size 640x480 with 1 Axes>"
            ],
            "image/png": "[encoded data removed]"
          },
          "metadata": {}
        }
      ],
      "source": [
        "order=chipo.groupby('order_id').sum()\n",
        "plt.scatter(x=order.item_price,y=order.quantity,s=50,c='red')\n",
        "plt.xlabel('Order price')\n",
        "plt.ylabel('Items ordered')\n",
        "plt.title('Number of items ordered per order price')\n",
        "plt.show()\n"
      ]
    },
    {
      "cell_type": "markdown",
      "metadata": {
        "pycharm": {
          "name": "#%% md\n"
        },
        "id": "aypMevX8RmO-"
      },
      "source": [
        "### Step 7. BONUS: Create a question and a graph to answer your own question."
      ]
    },
    {
      "cell_type": "markdown",
      "source": [],
      "metadata": {
        "id": "sXxQ3b9oQamB"
      }
    },
    {
      "cell_type": "code",
      "execution_count": null,
      "metadata": {
        "pycharm": {
          "name": "#%%\n"
        },
        "id": "jK647IEnRmO-"
      },
      "outputs": [],
      "source": []
    }
  ],
  "metadata": {
    "kernelspec": {
      "display_name": "Python 3",
      "language": "python",
      "name": "python3"
    },
    "language_info": {
      "codemirror_mode": {
        "name": "ipython",
        "version": 3
      },
      "file_extension": ".py",
      "mimetype": "text/x-python",
      "name": "python",
      "nbconvert_exporter": "python",
      "pygments_lexer": "ipython3",
      "version": "3.7.3"
    },
    "colab": {
      "provenance": []
    }
  },
  "nbformat": 4,
  "nbformat_minor": 0
}